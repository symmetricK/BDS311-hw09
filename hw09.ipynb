{
 "cells": [
  {
   "cell_type": "markdown",
   "metadata": {},
   "source": [
    "# Homework 9: Classification via k-nearest neighbors\n",
    "# 60 pts, Due Tuesday June 8 at 11:59pm "
   ]
  },
  {
   "cell_type": "markdown",
   "metadata": {},
   "source": [
    "# **Helpful Resources:**# \n",
    "\n",
    "- [Getting help on a Jupyter Notebook](https://problemsolvingwithpython.com/02-Jupyter-Notebooks/02.07-Getting-Help-in-a-Jupyter-Notebook/)\n",
    "\n",
    "- [Python Examples](https://nbviewer.jupyter.org/urls/bitbucket.org/hrojas/learn-pandas/raw/master/lessons/Python_101.ipynb): A reference for distinct Python commands (worth returning to throughout this course)\n",
    "\n",
    "- [Inferential Thinking: Classification](https://inferentialthinking.com/chapters/17/Classification.html): Good conceptual overview\n"
   ]
  },
  {
   "cell_type": "markdown",
   "metadata": {},
   "source": [
    "### Question 0: Collaborating with yourself. \n",
    "This week I'd like you to collaborate with yourself by working in parallel on your own computer (let me know if you have any issues with running Python, Jupyter Notebook, or Git) and on the class server. You can connect these two sources through a GitHub remote repository. I'll look at your work on the class server but also at your GitHub repository:\n",
    "\n",
    "What is your Github handle?\n"
   ]
  },
  {
   "cell_type": "code",
   "execution_count": null,
   "metadata": {},
   "outputs": [],
   "source": [
    "symmetricK"
   ]
  },
  {
   "cell_type": "markdown",
   "metadata": {},
   "source": [
    "### Question 1: Visualizing the data\n",
    "<img src ='iris-dataset.png' width=\"500px\" /><br>\n",
    "\n",
    "This week we will perform automated classification (in this case species identification) using the famous [Iris dataset](https://en.wikipedia.org/wiki/Iris_flower_data_set), collected by [Ronald Fisher](https://en.wikipedia.org/wiki/Ronald_Fisher), a remarkable and statistician and geneticist, largely responsible for development of permutation tests.\n",
    "\n",
    "`iris.csv` contains 4 measurements (*sepal width*, *sepal length*, *petal width*, and *petal length*) from each of 150 flowers belonging to three species: *Iris setosa*, *Iris versicolor*, and *Iris virginica*. To visualize the raw data, first import the data from the csv file and make six scatter plots, each of which plots unique pairs of parameters for all 150 flowers. For organization purposes, make subplots on the same figure. The first row should be three scatter plots which involve sepal width (on horizontal axis in each subplot). The next row should be the other the three parameter combinations. Plot each species of iris as a distinct color. Your plot should look something like this.<br>\n",
    "<img src ='demo.svg' width=\"900px\" /><br><br>\n",
    "Make the code that produces this plot a function, `make_scatter` as we will modify it later on. For now, ignore the optional arguments `example` and `k` in function definition. We will deal with them later. You can call function without those arguments as in the function call `make_scatter(df)` I provide below.\n",
    "\n",
    "*Hint*: [pyplot.subplots](https://matplotlib.org/stable/gallery/subplots_axes_and_figures/subplots_demo.html) is useful for making subplots. For instance, `ax=plt.subplots(2,3)` creates six subplots with two rows and three columns.<br>\n",
    "`ax[0,0].scatter(x,y)` would make scatter plot on first of these subplots.<br>\n",
    "`fig.tight_layout()` pushes subplots closer together on page.<br>\n",
    "To make figure readable, adjust figure size, `fig.set_size_inches` and marker size of scatter.\n",
    "\n",
    "### Answer 1:"
   ]
  },
  {
   "cell_type": "code",
   "execution_count": 32,
   "metadata": {},
   "outputs": [],
   "source": [
    "#Code for Answer 1\n",
    "import pandas as pd\n",
    "import matplotlib.pyplot as plt\n",
    "import numpy as np\n",
    "df=pd.read_csv('iris.csv')\n",
    "df.columns\n",
    "\n",
    "\n",
    "def make_scatter(df,example=None,k=None):\n",
    "    '''\n",
    "    Input: df, iris Pandas data frame\n",
    "    Optional input: example,data frame to plot as point on scatter plots\n",
    "    Optional input: k, number of closest points to mark\n",
    "    Makes six scatter plots for each unique pair of parameters\n",
    "    '''\n",
    "    ...\n",
    "    \n",
    "make_scatter(df)\n"
   ]
  },
  {
   "cell_type": "code",
   "execution_count": null,
   "metadata": {},
   "outputs": [],
   "source": []
  },
  {
   "cell_type": "markdown",
   "metadata": {},
   "source": [
    "### Question 2: Adding an example row as a point on your scatter plot.\n",
    "\n",
    "- Write code below to choose an example row randomly from the dataframe and save that single row as `example_df`, a dataframe\n",
    "- The `make_scatter` function above takes an optional argument `example` <br>\n",
    "\n",
    "- Put a conditional statement in your function so that if an example is passed to it, it plots the example as a cyan point on each of the subplots. This conditional statement can be written like this <br>\n",
    "`if example is not None:`\n",
    "\n",
    "\n",
    "\n",
    "### Answer 2"
   ]
  },
  {
   "cell_type": "code",
   "execution_count": 33,
   "metadata": {},
   "outputs": [],
   "source": [
    "#Answer 2 below\n",
    "#Extract example_df, modify make_scatter to plot an example_df\n",
    "example_df=...\n",
    "make_scatter(df,example_df)\n"
   ]
  },
  {
   "cell_type": "markdown",
   "metadata": {},
   "source": [
    "### Question 3: Calculating distances\n",
    "\n",
    "To implement the K-nearest neighbor algorithm for species identification, we need to calculate distances between individual points in the multiparameter space defined by the four flower measurements. Operationally, this means calculating distances between parameters in distinct rows in a dataframe\n",
    "\n",
    "In the `knn_fxns.py` file,  write the following functions:<br><br>\n",
    "`row_distance` : Returns the Euclidean distance between two input rows (type Pandas series or array), extracted from a Pandas dataframe. Calls row_distance<br><br>\n",
    "`calc_distance_to_all_rows` : Computes distance between every row in input dataframe (Pandas dataframe) and example row (Pandas series or array type) Returns dataframe with column added to the input dataframe indicating distances to example.<br><br>\n",
    "`find_k_closest`: Finds the k closest neighbors to example, excluding the example itself. Returns a dataframe in same format as input df but with k rows and sorted by distance to example column.  **NOTE:** IF there is a tie for kth closest, choose the final k to include via random choice.\n",
    "\n",
    "### Answer 3 \n"
   ]
  },
  {
   "cell_type": "code",
   "execution_count": 34,
   "metadata": {},
   "outputs": [],
   "source": [
    "#Answer 3 here\n",
    "import knn_fxns as knn\n",
    "...\n",
    "example_row=...\n",
    "...\n",
    "knn.row_distance(example_row,example_row)\n",
    "dist_df=knn.calc_distance_to_all_rows(df,example_row)\n",
    "closest_df=knn.find_k_closest(df,example_row,5)"
   ]
  },
  {
   "cell_type": "markdown",
   "metadata": {},
   "source": [
    "### Question 4 \n",
    "Modify scatter plot again to plot the k nearest neighbors to your example . Use the optional argument to make_scatter `k`. The function should `plot_k_closest` in each of 6 plots - with an open black circle. Below do this for k=3 and k=7. <br>\n",
    "Here is an example for k=5.<br>\n",
    "<img src ='demo_closest.svg' width=\"900px\" /><br><br>\n",
    "<br>\n",
    "Note that there are apparently only 4 points plotted in example above though plot represents 5. Why is this? If you feel motivated, as a bonus, you can modify opacity of your black circles to better indicate overlapping scatter points. Why in some of the plots do the points calculated as closest not appear to be closest?"
   ]
  },
  {
   "cell_type": "code",
   "execution_count": 19,
   "metadata": {},
   "outputs": [],
   "source": [
    "#Answer 4 Code\n",
    "make_scatter(df,example=example_df,k=3)\n",
    "make_scatter(df,example=example_df,k=7)"
   ]
  },
  {
   "cell_type": "markdown",
   "metadata": {},
   "source": [
    "### Answer 4 text<br><br>\n",
    "\n",
    "\n"
   ]
  },
  {
   "cell_type": "markdown",
   "metadata": {},
   "source": [
    "## Question 5. Classification\n",
    "Write a function specified in `knn_fxns.py` called `classify`, which returns the majority class from the k nearest neighbors of example. It will call `find_k_closest`. Call function below. Do results correspond to plots you made above?\n"
   ]
  },
  {
   "cell_type": "code",
   "execution_count": 26,
   "metadata": {},
   "outputs": [
    {
     "name": "stdout",
     "output_type": "stream",
     "text": [
      "None\n",
      "None\n"
     ]
    }
   ],
   "source": [
    "print(knn.classify(df,example_row,3))\n",
    "print(knn.classify(df,example_row,7))\n"
   ]
  },
  {
   "cell_type": "markdown",
   "metadata": {},
   "source": [
    "#### Answer 5 text<br>"
   ]
  },
  {
   "cell_type": "markdown",
   "metadata": {},
   "source": [
    "### Question 6: Evaluating accuracy of classifier with training and test sets\n",
    "To test performance of classifier with 150 total data points, we will divide data set into three random groups (Group A, B, and C) of 50 points.\n",
    "Write a function in `knn_fxn.py` called `evaluate_accuracy` that evaluates the accuracy of your classifer, when provided with a training set and a test set. The accuracy of classifier is the fraction of test set correctly classified using class labels from the training set.\n",
    "\n",
    "Do this for k=5 for three scenarios, where Group A is the test set and combined Groups B and C are training set, where B is the test set, and where C is the test set. Write code below that calls `evaluate_accuracy` function and prints the three `k=5` accuracy results, which should be greater than 80%.\n",
    "\n",
    "**Bonus diversion:** Can you identify and plot the cases on your scatter plot where the classifier misclassified?  What do those cases look like? Are the mistakes understandable?\n",
    "\n",
    "\n",
    "\n",
    "\n",
    "\n",
    "### Question 7: Varying k to optimize the classifier.\n",
    "Evaluate classifier on your three random test groups for k=1, 3, 5, 7, 9, 11.\n",
    "\n",
    "Make a scatter plot, which plots `accuracy` on vertical axis, `k` on horizontal axis and the 18 accuracy results, 3 for each k. Plot a line that connects the mean for each k.  Based on these findings, which value of k would you use for classification?\n",
    "\n"
   ]
  },
  {
   "cell_type": "code",
   "execution_count": 29,
   "metadata": {},
   "outputs": [],
   "source": [
    "#Answer 7 code"
   ]
  },
  {
   "cell_type": "markdown",
   "metadata": {},
   "source": [
    "#### Answer 7 text answer\n",
    "<br><br>"
   ]
  },
  {
   "cell_type": "markdown",
   "metadata": {},
   "source": [
    "\n"
   ]
  },
  {
   "cell_type": "markdown",
   "metadata": {},
   "source": [
    "## Last, important questions\n",
    "Congratulations on finishing your last problem set, and the course, and academic year!\n",
    "The very last questions I expect you to answer for the course are in the student evaluation, accessible here (https://beav.es/Student-Learning-Survey), which will provide me and the BDS program important information for planning future versions of the course. Please let me know if you encounter any issues completing the survey."
   ]
  },
  {
   "cell_type": "code",
   "execution_count": null,
   "metadata": {},
   "outputs": [],
   "source": []
  }
 ],
 "metadata": {
  "kernelspec": {
   "display_name": "Python 3",
   "language": "python",
   "name": "python3"
  },
  "language_info": {
   "codemirror_mode": {
    "name": "ipython",
    "version": 3
   },
   "file_extension": ".py",
   "mimetype": "text/x-python",
   "name": "python",
   "nbconvert_exporter": "python",
   "pygments_lexer": "ipython3",
   "version": "3.7.9"
  }
 },
 "nbformat": 4,
 "nbformat_minor": 4
}
